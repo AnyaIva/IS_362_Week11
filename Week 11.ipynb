{
 "cells": [
  {
   "cell_type": "code",
   "execution_count": 2,
   "id": "28ad123f",
   "metadata": {},
   "outputs": [],
   "source": [
    "import requests\n",
    "import pandas as pd\n",
    "\n",
    "\n",
    "API_KEY = '6Ol0yGMk2dGtJpcEtIAXHqKrdaNSaVVB'\n",
    "\n",
    "#setting the base URL and endpoint for the Movie Reviews API\n",
    "BASE_URL = 'https://api.nytimes.com/svc/movies/v2/reviews'\n",
    "ENDPOINT = 'search.json'\n",
    "\n",
    "\n"
   ]
  },
  {
   "cell_type": "code",
   "execution_count": 4,
   "id": "b8207fe1",
   "metadata": {},
   "outputs": [],
   "source": [
    "#setting the query parameters for the API request\n",
    "params = {\n",
    "    'api-key': API_KEY,\n",
    "    'query': 'Star Wars'  \n",
    "}\n",
    "\n",
    "response = requests.get(f'{BASE_URL}/{ENDPOINT}', params=params)\n",
    "\n"
   ]
  },
  {
   "cell_type": "code",
   "execution_count": 5,
   "id": "f5290f96",
   "metadata": {},
   "outputs": [
    {
     "name": "stdout",
     "output_type": "stream",
     "text": [
      "                                display_title mpaa_rating  critics_pick  \\\n",
      "0            Star Wars: The Rise of Skywalker       PG-13             0   \n",
      "1                     Solo: A Star Wars Story       PG-13             0   \n",
      "2                    Star Wars: The Last Jedi       PG-13             1   \n",
      "3                Rogue One: A Star Wars Story       PG-13             0   \n",
      "4  Star Wars: Episode VII - The Force Awakens       PG-13             0   \n",
      "\n",
      "           byline                                           headline  \\\n",
      "0      A.O. Scott  ‘Star Wars: The Rise of Skywalker’ Review: Rev...   \n",
      "1      A.O. SCOTT  Review: ‘Solo: A Star Wars Story’ Answers Ques...   \n",
      "2  MANOHLA DARGIS  Review: ‘Star Wars: The Last Jedi’ Embraces th...   \n",
      "3     A. O. SCOTT  Review: ‘Rogue One’ Leaves ‘Star Wars’ Fans Wa...   \n",
      "4  MANOHLA DARGIS  ‘Star Wars: The Force Awakens’ Delivers the Th...   \n",
      "\n",
      "                                       summary_short publication_date  \\\n",
      "0  Resistance is futile. Rey, Finn and Poe are ba...       2019-12-18   \n",
      "1  Where did Han Solo get his last name? How did ...       2018-05-15   \n",
      "2  With charm and wit, the latest “Star Wars” mov...       2017-12-12   \n",
      "3  This film, masquerading as a heroic tale of re...       2016-12-13   \n",
      "4  J. J. Abrams, the director, turns out to be wh...       2015-12-16   \n",
      "\n",
      "  opening_date         date_updated  \\\n",
      "0   2019-12-20  2020-01-18 17:44:01   \n",
      "1   2018-05-25  2018-06-15 16:44:02   \n",
      "2   2017-12-15  2018-01-12 17:44:02   \n",
      "3   2016-12-16  2017-11-02 04:18:26   \n",
      "4   2015-12-18  2017-11-02 04:18:23   \n",
      "\n",
      "                                                link  \\\n",
      "0  {'type': 'article', 'url': 'https://www.nytime...   \n",
      "1  {'type': 'article', 'url': 'https://www.nytime...   \n",
      "2  {'type': 'article', 'url': 'https://www.nytime...   \n",
      "3  {'type': 'article', 'url': 'https://www.nytime...   \n",
      "4  {'type': 'article', 'url': 'https://www.nytime...   \n",
      "\n",
      "                                          multimedia  \n",
      "0  {'type': 'mediumThreeByTwo210', 'src': 'https:...  \n",
      "1  {'type': 'mediumThreeByTwo210', 'src': 'https:...  \n",
      "2  {'type': 'mediumThreeByTwo210', 'src': 'https:...  \n",
      "3  {'type': 'mediumThreeByTwo210', 'src': 'https:...  \n",
      "4  {'type': 'mediumThreeByTwo210', 'src': 'https:...  \n"
     ]
    }
   ],
   "source": [
    "#checking if the request was successful\n",
    "if response.status_code == 200:\n",
    "    #loading JSON data\n",
    "    data = response.json()\n",
    "    \n",
    "    #extracting the movie review results\n",
    "    results = data['results']\n",
    "    \n",
    "    #converting\n",
    "    df = pd.DataFrame(results)\n",
    "    \n",
    " \n",
    "    print(df.head())\n",
    "else:\n",
    "    print(f'Request failed with status code {response.status_code}.')"
   ]
  },
  {
   "cell_type": "code",
   "execution_count": null,
   "id": "ec66483c",
   "metadata": {},
   "outputs": [],
   "source": []
  }
 ],
 "metadata": {
  "kernelspec": {
   "display_name": "Python 3",
   "language": "python",
   "name": "python3"
  },
  "language_info": {
   "codemirror_mode": {
    "name": "ipython",
    "version": 3
   },
   "file_extension": ".py",
   "mimetype": "text/x-python",
   "name": "python",
   "nbconvert_exporter": "python",
   "pygments_lexer": "ipython3",
   "version": "3.8.10"
  }
 },
 "nbformat": 4,
 "nbformat_minor": 5
}
